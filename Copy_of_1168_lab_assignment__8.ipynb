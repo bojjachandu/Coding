{
  "nbformat": 4,
  "nbformat_minor": 0,
  "metadata": {
    "colab": {
      "provenance": [],
      "authorship_tag": "ABX9TyMZwTNdX4N+1bYn221VxD5l",
      "include_colab_link": true
    },
    "kernelspec": {
      "name": "python3",
      "display_name": "Python 3"
    },
    "language_info": {
      "name": "python"
    }
  },
  "cells": [
    {
      "cell_type": "markdown",
      "metadata": {
        "id": "view-in-github",
        "colab_type": "text"
      },
      "source": [
        "<a href=\"https://colab.research.google.com/github/bojjachandu/Coding/blob/main/Copy_of_1168_lab_assignment__8.ipynb\" target=\"_parent\"><img src=\"https://colab.research.google.com/assets/colab-badge.svg\" alt=\"Open In Colab\"/></a>"
      ]
    },
    {
      "cell_type": "code",
      "execution_count": null,
      "metadata": {
        "colab": {
          "base_uri": "https://localhost:8080/"
        },
        "id": "premVTgFnVBd",
        "outputId": "5e0bc085-e36e-467a-94f1-e482819e50e5"
      },
      "outputs": [
        {
          "output_type": "stream",
          "name": "stdout",
          "text": [
            "\n",
            "Named Entities from Text:\n",
            "Donald Trump -> PERSON\n",
            "LRT -> ORG\n",
            "the United States -> GPE\n",
            "Europe -> LOC\n",
            "NATO -> ORG\n",
            "NATO -> ORG\n",
            "February 27, 2025 -> DATE\n",
            "\n",
            "Categorized Named Entities:\n",
            "Persons: ['Donald Trump']\n",
            "Dates: ['February 27, 2025']\n",
            "Locations: ['LRT', 'the United States', 'Europe', 'NATO', 'NATO']\n"
          ]
        }
      ],
      "source": [
        "\n",
        "import spacy\n",
        "nlp = spacy.load(\"en_core_web_sm\")\n",
        "text = '''“There are no such indications,” President Donald Trump was quoted by state broadcaster LRT as saying.\n",
        "“Yes, there are ongoing discussions on what the United States’ involvement in Europe could be, but I think that\n",
        "our partners are well aware that NATO’s eastern flank, its security, is perhaps the cornerstone of NATO’s security\n",
        "because this is where the risks related to the activities of aggressors are. The meeting took place on February 27, 2025.”'''\n",
        "doc = nlp(text)\n",
        "print(\"\\nNamed Entities from Text:\")\n",
        "for ent in doc.ents:\n",
        "    print(f\"{ent.text} -> {ent.label_}\")\n",
        "persons = [ent.text for ent in doc.ents if ent.label_ == \"PERSON\"]\n",
        "dates = [ent.text for ent in doc.ents if ent.label_ == \"DATE\"]\n",
        "locations = [ent.text for ent in doc.ents if ent.label_ in [\"GPE\", \"LOC\", \"ORG\"]]\n",
        "print(\"\\nCategorized Named Entities:\")\n",
        "print(\"Persons:\", persons)\n",
        "print(\"Dates:\", dates)\n",
        "print(\"Locations:\", locations)"
      ]
    }
  ]
}